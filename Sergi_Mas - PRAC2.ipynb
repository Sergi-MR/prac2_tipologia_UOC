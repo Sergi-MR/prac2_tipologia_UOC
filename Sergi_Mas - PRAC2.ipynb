{
 "cells": [
  {
   "cell_type": "markdown",
   "metadata": {},
   "source": [
    "Al llarg d'aquest notebook, aniré realitzant els diferents passos proposats en el document 'Descripció de la pràctica a realitzar'. He cregut més convenient la utilització d'un notebook de Jupyter enlloc d'un format .py estàndar perquè amb el notebook es pot intercalar text estàndar amb codi i visualització del mateix i fa que la seva visualització sigui més agraïda.\n",
    "\n",
    "De fet, la majoria de codis de Python que realitzen EDA (Exploratory and Data Analysis) es fan amb el JUpyeterr Notebook gràcies a la seva versatilitat i fàcil visualització."
   ]
  },
  {
   "cell_type": "code",
   "execution_count": 142,
   "metadata": {},
   "outputs": [],
   "source": [
    "# Importació de les llibreries a utilitzar\n",
    "import pandas as pd\n",
    "import numpy as np\n",
    "import scipy as sp\n",
    "import seaborn as sns"
   ]
  },
  {
   "cell_type": "markdown",
   "metadata": {},
   "source": [
    "<strong> PAS 1. LECTURA i REDUCCIÓ DEL DATASET </strong>"
   ]
  },
  {
   "cell_type": "code",
   "execution_count": 143,
   "metadata": {},
   "outputs": [
    {
     "data": {
      "text/html": [
       "<div>\n",
       "<style scoped>\n",
       "    .dataframe tbody tr th:only-of-type {\n",
       "        vertical-align: middle;\n",
       "    }\n",
       "\n",
       "    .dataframe tbody tr th {\n",
       "        vertical-align: top;\n",
       "    }\n",
       "\n",
       "    .dataframe thead th {\n",
       "        text-align: right;\n",
       "    }\n",
       "</style>\n",
       "<table border=\"1\" class=\"dataframe\">\n",
       "  <thead>\n",
       "    <tr style=\"text-align: right;\">\n",
       "      <th></th>\n",
       "      <th>Id</th>\n",
       "      <th>Titol</th>\n",
       "      <th>Any</th>\n",
       "      <th>Duracio (min)</th>\n",
       "      <th>Pais</th>\n",
       "      <th>Direcció</th>\n",
       "      <th>Guió</th>\n",
       "      <th>Música</th>\n",
       "      <th>Fotografia</th>\n",
       "      <th>Productora</th>\n",
       "      <th>Repartiment</th>\n",
       "      <th>Gènere</th>\n",
       "      <th>Nota</th>\n",
       "      <th>Num. vots</th>\n",
       "      <th>Web</th>\n",
       "    </tr>\n",
       "  </thead>\n",
       "  <tbody>\n",
       "    <tr>\n",
       "      <th>0</th>\n",
       "      <td>520214.0</td>\n",
       "      <td>Joker</td>\n",
       "      <td>2019.0</td>\n",
       "      <td>121.0</td>\n",
       "      <td>Estados Unidos</td>\n",
       "      <td>['Todd Phillips']</td>\n",
       "      <td>['Todd Phillips', 'Scott Silver']</td>\n",
       "      <td>['Hildur Guðnadóttir']</td>\n",
       "      <td>['Lawrence Sher']</td>\n",
       "      <td>['DC Comics / DC Entertainment / Warner Bros. ...</td>\n",
       "      <td>['Joaquin Phoenix', 'Robert De Niro', 'Zazie B...</td>\n",
       "      <td>[['Thriller'], ['Drama']]</td>\n",
       "      <td>8,3</td>\n",
       "      <td>35.286</td>\n",
       "      <td>https://www.filmaffinity.com/es/film520214.html</td>\n",
       "    </tr>\n",
       "    <tr>\n",
       "      <th>1</th>\n",
       "      <td>977502.0</td>\n",
       "      <td>Terminator: Dark Fate</td>\n",
       "      <td>2019.0</td>\n",
       "      <td>128.0</td>\n",
       "      <td>Estados Unidos</td>\n",
       "      <td>['Tim Miller']</td>\n",
       "      <td>['David S. Goyer', 'Billy Ray', 'Justin Rhodes...</td>\n",
       "      <td>['Junkie XL']</td>\n",
       "      <td>['Ken Seng']</td>\n",
       "      <td>['Coproducción Estados Unidos-China; 20th Cent...</td>\n",
       "      <td>['Linda Hamilton', 'Mackenzie Davis', 'Natalia...</td>\n",
       "      <td>[['Ciencia ficción'], ['Acción']]</td>\n",
       "      <td>5,7</td>\n",
       "      <td>1.929</td>\n",
       "      <td>https://www.filmaffinity.com/es/film977502.html</td>\n",
       "    </tr>\n",
       "    <tr>\n",
       "      <th>2</th>\n",
       "      <td>610683.0</td>\n",
       "      <td>It. Chapter Two</td>\n",
       "      <td>2019.0</td>\n",
       "      <td>169.0</td>\n",
       "      <td>Estados Unidos</td>\n",
       "      <td>['Andy Muschietti']</td>\n",
       "      <td>['Gary Dauberman', 'Jeffrey Jurgensen (Novela:...</td>\n",
       "      <td>['Benjamin Wallfisch']</td>\n",
       "      <td>['Checco Varese']</td>\n",
       "      <td>['New Line Cinema / KatzSmith Productions / Li...</td>\n",
       "      <td>['Jessica Chastain', 'James McAvoy', 'Isaiah M...</td>\n",
       "      <td>[['Terror'], ['Fantástico']]</td>\n",
       "      <td>6,0</td>\n",
       "      <td>8.206</td>\n",
       "      <td>https://www.filmaffinity.com/es/film610683.html</td>\n",
       "    </tr>\n",
       "    <tr>\n",
       "      <th>3</th>\n",
       "      <td>316246.0</td>\n",
       "      <td>The Lion King</td>\n",
       "      <td>2019.0</td>\n",
       "      <td>118.0</td>\n",
       "      <td>Estados Unidos</td>\n",
       "      <td>['Jon Favreau']</td>\n",
       "      <td>['Jeff Nathanson (Historia: Brenda Chapman. Pe...</td>\n",
       "      <td>['Hans Zimmer (Canciones: Tim Rice', 'Elton Jo...</td>\n",
       "      <td>['Animation', 'Caleb Deschanel']</td>\n",
       "      <td>['Walt Disney Pictures / Fairview Entertainment']</td>\n",
       "      <td>['Animation']</td>\n",
       "      <td>[['Animación'], ['Aventuras'], ['Drama'], ['Mu...</td>\n",
       "      <td>6,6</td>\n",
       "      <td>11.710</td>\n",
       "      <td>https://www.filmaffinity.com/es/film316246.html</td>\n",
       "    </tr>\n",
       "    <tr>\n",
       "      <th>4</th>\n",
       "      <td>424407.0</td>\n",
       "      <td>El Camino: A Breaking Bad Movie</td>\n",
       "      <td>2019.0</td>\n",
       "      <td>122.0</td>\n",
       "      <td>Estados Unidos</td>\n",
       "      <td>['Vince Gilligan']</td>\n",
       "      <td>['Vince Gilligan']</td>\n",
       "      <td>['Dave Porter']</td>\n",
       "      <td>['Marshall Adams']</td>\n",
       "      <td>['Netflix / AMC / Sony Pictures Television. Di...</td>\n",
       "      <td>['Aaron Paul', 'Matt Jones', 'Charles Baker', ...</td>\n",
       "      <td>[['Thriller'], ['Drama']]</td>\n",
       "      <td>6,5</td>\n",
       "      <td>9.581</td>\n",
       "      <td>https://www.filmaffinity.com/es/film424407.html</td>\n",
       "    </tr>\n",
       "  </tbody>\n",
       "</table>\n",
       "</div>"
      ],
      "text/plain": [
       "         Id                            Titol     Any  Duracio (min)  \\\n",
       "0  520214.0                            Joker  2019.0          121.0   \n",
       "1  977502.0            Terminator: Dark Fate  2019.0          128.0   \n",
       "2  610683.0                  It. Chapter Two  2019.0          169.0   \n",
       "3  316246.0                    The Lion King  2019.0          118.0   \n",
       "4  424407.0  El Camino: A Breaking Bad Movie  2019.0          122.0   \n",
       "\n",
       "             Pais             Direcció  \\\n",
       "0  Estados Unidos    ['Todd Phillips']   \n",
       "1  Estados Unidos       ['Tim Miller']   \n",
       "2  Estados Unidos  ['Andy Muschietti']   \n",
       "3  Estados Unidos      ['Jon Favreau']   \n",
       "4  Estados Unidos   ['Vince Gilligan']   \n",
       "\n",
       "                                                Guió  \\\n",
       "0                  ['Todd Phillips', 'Scott Silver']   \n",
       "1  ['David S. Goyer', 'Billy Ray', 'Justin Rhodes...   \n",
       "2  ['Gary Dauberman', 'Jeffrey Jurgensen (Novela:...   \n",
       "3  ['Jeff Nathanson (Historia: Brenda Chapman. Pe...   \n",
       "4                                 ['Vince Gilligan']   \n",
       "\n",
       "                                              Música  \\\n",
       "0                             ['Hildur Guðnadóttir']   \n",
       "1                                      ['Junkie XL']   \n",
       "2                             ['Benjamin Wallfisch']   \n",
       "3  ['Hans Zimmer (Canciones: Tim Rice', 'Elton Jo...   \n",
       "4                                    ['Dave Porter']   \n",
       "\n",
       "                         Fotografia  \\\n",
       "0                 ['Lawrence Sher']   \n",
       "1                      ['Ken Seng']   \n",
       "2                 ['Checco Varese']   \n",
       "3  ['Animation', 'Caleb Deschanel']   \n",
       "4                ['Marshall Adams']   \n",
       "\n",
       "                                          Productora  \\\n",
       "0  ['DC Comics / DC Entertainment / Warner Bros. ...   \n",
       "1  ['Coproducción Estados Unidos-China; 20th Cent...   \n",
       "2  ['New Line Cinema / KatzSmith Productions / Li...   \n",
       "3  ['Walt Disney Pictures / Fairview Entertainment']   \n",
       "4  ['Netflix / AMC / Sony Pictures Television. Di...   \n",
       "\n",
       "                                         Repartiment  \\\n",
       "0  ['Joaquin Phoenix', 'Robert De Niro', 'Zazie B...   \n",
       "1  ['Linda Hamilton', 'Mackenzie Davis', 'Natalia...   \n",
       "2  ['Jessica Chastain', 'James McAvoy', 'Isaiah M...   \n",
       "3                                      ['Animation']   \n",
       "4  ['Aaron Paul', 'Matt Jones', 'Charles Baker', ...   \n",
       "\n",
       "                                              Gènere Nota  Num. vots  \\\n",
       "0                          [['Thriller'], ['Drama']]  8,3     35.286   \n",
       "1                  [['Ciencia ficción'], ['Acción']]  5,7      1.929   \n",
       "2                       [['Terror'], ['Fantástico']]  6,0      8.206   \n",
       "3  [['Animación'], ['Aventuras'], ['Drama'], ['Mu...  6,6     11.710   \n",
       "4                          [['Thriller'], ['Drama']]  6,5      9.581   \n",
       "\n",
       "                                               Web  \n",
       "0  https://www.filmaffinity.com/es/film520214.html  \n",
       "1  https://www.filmaffinity.com/es/film977502.html  \n",
       "2  https://www.filmaffinity.com/es/film610683.html  \n",
       "3  https://www.filmaffinity.com/es/film316246.html  \n",
       "4  https://www.filmaffinity.com/es/film424407.html  "
      ]
     },
     "execution_count": 143,
     "metadata": {},
     "output_type": "execute_result"
    }
   ],
   "source": [
    "# Lectura del dataset\n",
    "FA = pd.read_csv('db_FA.csv')\n",
    "\n",
    "#Visualitzem les primeres 5 línies del nostre conjunt\n",
    "FA.head()"
   ]
  },
  {
   "cell_type": "code",
   "execution_count": 144,
   "metadata": {},
   "outputs": [
    {
     "data": {
      "text/html": [
       "<div>\n",
       "<style scoped>\n",
       "    .dataframe tbody tr th:only-of-type {\n",
       "        vertical-align: middle;\n",
       "    }\n",
       "\n",
       "    .dataframe tbody tr th {\n",
       "        vertical-align: top;\n",
       "    }\n",
       "\n",
       "    .dataframe thead th {\n",
       "        text-align: right;\n",
       "    }\n",
       "</style>\n",
       "<table border=\"1\" class=\"dataframe\">\n",
       "  <thead>\n",
       "    <tr style=\"text-align: right;\">\n",
       "      <th></th>\n",
       "      <th>Id</th>\n",
       "      <th>Titol</th>\n",
       "      <th>Any</th>\n",
       "      <th>Duracio (min)</th>\n",
       "      <th>Pais</th>\n",
       "      <th>Direcció</th>\n",
       "      <th>Guió</th>\n",
       "      <th>Música</th>\n",
       "      <th>Fotografia</th>\n",
       "      <th>Productora</th>\n",
       "      <th>Repartiment</th>\n",
       "      <th>Gènere</th>\n",
       "      <th>Nota</th>\n",
       "      <th>Num. vots</th>\n",
       "      <th>Web</th>\n",
       "    </tr>\n",
       "  </thead>\n",
       "  <tbody>\n",
       "    <tr>\n",
       "      <th>5166</th>\n",
       "      <td>825097.0</td>\n",
       "      <td>The Twilight Zone: Nightmare at 30,000 Feet (TV)</td>\n",
       "      <td>2019.0</td>\n",
       "      <td>37.0</td>\n",
       "      <td>Estados Unidos</td>\n",
       "      <td>['Greg Yaitanes']</td>\n",
       "      <td>['Jordan Peele', 'Marco Ramirez (Historia: Ric...</td>\n",
       "      <td>['Marco Beltrami', 'Brandon Roberts']</td>\n",
       "      <td>['Craig Wrobleski']</td>\n",
       "      <td>['CBS Television Studios / Monkeypaw Productio...</td>\n",
       "      <td>['Adam Scott', 'Nabil Ayoub', 'J. Cameron Barn...</td>\n",
       "      <td>[['Fantástico'], ['Drama'], ['Intriga']]</td>\n",
       "      <td>5,6</td>\n",
       "      <td>396.0</td>\n",
       "      <td>https://www.filmaffinity.com/es/film825097.html</td>\n",
       "    </tr>\n",
       "    <tr>\n",
       "      <th>5167</th>\n",
       "      <td>911340.0</td>\n",
       "      <td>Critters Attack! (TV)</td>\n",
       "      <td>2019.0</td>\n",
       "      <td>89.0</td>\n",
       "      <td>Estados Unidos</td>\n",
       "      <td>['Bobby Miller']</td>\n",
       "      <td>['Scott Lobdell (Personaje: Domonic Muir)']</td>\n",
       "      <td>['Russ Howard III']</td>\n",
       "      <td>['Hein de Vos']</td>\n",
       "      <td>['Blue Ribbon Content. Distribuida por Warner ...</td>\n",
       "      <td>['Tashiana Washington', 'Dee Wallace', 'Jack F...</td>\n",
       "      <td>[['Terror']]</td>\n",
       "      <td>3,2</td>\n",
       "      <td>380.0</td>\n",
       "      <td>https://www.filmaffinity.com/es/film911340.html</td>\n",
       "    </tr>\n",
       "    <tr>\n",
       "      <th>5168</th>\n",
       "      <td>449426.0</td>\n",
       "      <td>What Men Want</td>\n",
       "      <td>2019.0</td>\n",
       "      <td>117.0</td>\n",
       "      <td>Estados Unidos</td>\n",
       "      <td>['Adam Shankman']</td>\n",
       "      <td>['Historia: Nancy Meyers']</td>\n",
       "      <td>['Brian Tyler']</td>\n",
       "      <td>['Jim Denault']</td>\n",
       "      <td>['BET Films / Paramount Players / Will Packer ...</td>\n",
       "      <td>['Taraji P. Henson', 'Wendi McLendon-Covey', '...</td>\n",
       "      <td>[['Comedia'], ['Fantástico'], ['Romance']]</td>\n",
       "      <td>4,2</td>\n",
       "      <td>377.0</td>\n",
       "      <td>https://www.filmaffinity.com/es/film449426.html</td>\n",
       "    </tr>\n",
       "    <tr>\n",
       "      <th>5169</th>\n",
       "      <td>551102.0</td>\n",
       "      <td>Lo spietato</td>\n",
       "      <td>2019.0</td>\n",
       "      <td>111.0</td>\n",
       "      <td>Italia</td>\n",
       "      <td>['Renato De Maria']</td>\n",
       "      <td>['Renato De Maria', 'Federico Gnesini', 'Valen...</td>\n",
       "      <td>['NA']</td>\n",
       "      <td>['Gianfilippo Corticelli']</td>\n",
       "      <td>['BiBi Film']</td>\n",
       "      <td>['Riccardo Scamarcio', 'Sara Serraiocco', 'Ale...</td>\n",
       "      <td>[['Drama']]</td>\n",
       "      <td>5,4</td>\n",
       "      <td>372.0</td>\n",
       "      <td>https://www.filmaffinity.com/es/film551102.html</td>\n",
       "    </tr>\n",
       "    <tr>\n",
       "      <th>5170</th>\n",
       "      <td>397275.0</td>\n",
       "      <td>Batwoman (TV Series)</td>\n",
       "      <td>2019.0</td>\n",
       "      <td>45.0</td>\n",
       "      <td>Estados Unidos</td>\n",
       "      <td>['Caroline Dries (Creator)', 'Greg Berlanti (C...</td>\n",
       "      <td>['Greg Berlanti', 'Caroline Dries', 'Sheldon M...</td>\n",
       "      <td>['Sherri Chung', 'Blake Neely']</td>\n",
       "      <td>['Robert McLachlan']</td>\n",
       "      <td>['Berlanti Productions / DC Entertainment / Wa...</td>\n",
       "      <td>['Ruby Rose', 'Dougray Scott', 'Dakota Daulby'...</td>\n",
       "      <td>[['Serie de TV'], ['Acción'], ['Fantástico']]</td>\n",
       "      <td>3,8</td>\n",
       "      <td>324.0</td>\n",
       "      <td>https://www.filmaffinity.com/es/film397275.html</td>\n",
       "    </tr>\n",
       "  </tbody>\n",
       "</table>\n",
       "</div>"
      ],
      "text/plain": [
       "            Id                                             Titol     Any  \\\n",
       "5166  825097.0  The Twilight Zone: Nightmare at 30,000 Feet (TV)  2019.0   \n",
       "5167  911340.0                             Critters Attack! (TV)  2019.0   \n",
       "5168  449426.0                                     What Men Want  2019.0   \n",
       "5169  551102.0                                       Lo spietato  2019.0   \n",
       "5170  397275.0                              Batwoman (TV Series)  2019.0   \n",
       "\n",
       "      Duracio (min)            Pais  \\\n",
       "5166           37.0  Estados Unidos   \n",
       "5167           89.0  Estados Unidos   \n",
       "5168          117.0  Estados Unidos   \n",
       "5169          111.0          Italia   \n",
       "5170           45.0  Estados Unidos   \n",
       "\n",
       "                                               Direcció  \\\n",
       "5166                                  ['Greg Yaitanes']   \n",
       "5167                                   ['Bobby Miller']   \n",
       "5168                                  ['Adam Shankman']   \n",
       "5169                                ['Renato De Maria']   \n",
       "5170  ['Caroline Dries (Creator)', 'Greg Berlanti (C...   \n",
       "\n",
       "                                                   Guió  \\\n",
       "5166  ['Jordan Peele', 'Marco Ramirez (Historia: Ric...   \n",
       "5167        ['Scott Lobdell (Personaje: Domonic Muir)']   \n",
       "5168                         ['Historia: Nancy Meyers']   \n",
       "5169  ['Renato De Maria', 'Federico Gnesini', 'Valen...   \n",
       "5170  ['Greg Berlanti', 'Caroline Dries', 'Sheldon M...   \n",
       "\n",
       "                                     Música                  Fotografia  \\\n",
       "5166  ['Marco Beltrami', 'Brandon Roberts']         ['Craig Wrobleski']   \n",
       "5167                    ['Russ Howard III']             ['Hein de Vos']   \n",
       "5168                        ['Brian Tyler']             ['Jim Denault']   \n",
       "5169                                 ['NA']  ['Gianfilippo Corticelli']   \n",
       "5170        ['Sherri Chung', 'Blake Neely']        ['Robert McLachlan']   \n",
       "\n",
       "                                             Productora  \\\n",
       "5166  ['CBS Television Studios / Monkeypaw Productio...   \n",
       "5167  ['Blue Ribbon Content. Distribuida por Warner ...   \n",
       "5168  ['BET Films / Paramount Players / Will Packer ...   \n",
       "5169                                      ['BiBi Film']   \n",
       "5170  ['Berlanti Productions / DC Entertainment / Wa...   \n",
       "\n",
       "                                            Repartiment  \\\n",
       "5166  ['Adam Scott', 'Nabil Ayoub', 'J. Cameron Barn...   \n",
       "5167  ['Tashiana Washington', 'Dee Wallace', 'Jack F...   \n",
       "5168  ['Taraji P. Henson', 'Wendi McLendon-Covey', '...   \n",
       "5169  ['Riccardo Scamarcio', 'Sara Serraiocco', 'Ale...   \n",
       "5170  ['Ruby Rose', 'Dougray Scott', 'Dakota Daulby'...   \n",
       "\n",
       "                                             Gènere Nota  Num. vots  \\\n",
       "5166       [['Fantástico'], ['Drama'], ['Intriga']]  5,6      396.0   \n",
       "5167                                   [['Terror']]  3,2      380.0   \n",
       "5168     [['Comedia'], ['Fantástico'], ['Romance']]  4,2      377.0   \n",
       "5169                                    [['Drama']]  5,4      372.0   \n",
       "5170  [['Serie de TV'], ['Acción'], ['Fantástico']]  3,8      324.0   \n",
       "\n",
       "                                                  Web  \n",
       "5166  https://www.filmaffinity.com/es/film825097.html  \n",
       "5167  https://www.filmaffinity.com/es/film911340.html  \n",
       "5168  https://www.filmaffinity.com/es/film449426.html  \n",
       "5169  https://www.filmaffinity.com/es/film551102.html  \n",
       "5170  https://www.filmaffinity.com/es/film397275.html  "
      ]
     },
     "execution_count": 144,
     "metadata": {},
     "output_type": "execute_result"
    }
   ],
   "source": [
    "# Visualitzem les 5 últimes files del nostre conjunt\n",
    "FA.tail()"
   ]
  },
  {
   "cell_type": "markdown",
   "metadata": {},
   "source": [
    "Com veiem, hi hauria d'haver unes 4500 registres però trobem que n'hi ha més de 5000. Així doncs és possible que a la hora de realitzar el nou fitxer, no borrés correctament les dades i emmagtzamés proves anteriors (d'altres anys):"
   ]
  },
  {
   "cell_type": "code",
   "execution_count": 145,
   "metadata": {},
   "outputs": [
    {
     "name": "stdout",
     "output_type": "stream",
     "text": [
      "[2019. 2000. 1999. 1998. 1997. 2018. 2017.]\n",
      "(5171, 15)\n"
     ]
    }
   ],
   "source": [
    "# Comrpovació dels anys que hi ha en la nostra base\n",
    "print(FA['Any'].unique())\n",
    "print(FA.shape)"
   ]
  },
  {
   "cell_type": "markdown",
   "metadata": {},
   "source": [
    "Com veiem, hi ha anys que no pertoquen en el dataset i, per tant, haurem de procedir a la seva eliminació:"
   ]
  },
  {
   "cell_type": "code",
   "execution_count": 146,
   "metadata": {},
   "outputs": [
    {
     "name": "stdout",
     "output_type": "stream",
     "text": [
      "[2019. 2018. 2017.]\n",
      "(4744, 15)\n"
     ]
    }
   ],
   "source": [
    "FA2 = FA[(FA['Any']==2017.) | (FA['Any']==2018.) | (FA['Any']==2019.)]\n",
    "print(FA2['Any'].unique())\n",
    "print(FA2.shape)"
   ]
  },
  {
   "cell_type": "markdown",
   "metadata": {},
   "source": [
    "Eliminem possibles registres repetits:"
   ]
  },
  {
   "cell_type": "code",
   "execution_count": 147,
   "metadata": {},
   "outputs": [
    {
     "name": "stdout",
     "output_type": "stream",
     "text": [
      "(3997, 15)\n"
     ]
    }
   ],
   "source": [
    "# Eliminació de registres repetits\n",
    "FA3 = FA2.drop_duplicates(keep=False)\n",
    "FA3 = FA3.reset_index(drop=True)\n",
    "print(FA3.shape)"
   ]
  },
  {
   "cell_type": "markdown",
   "metadata": {},
   "source": [
    "Hem reduït el nombre de registres i ara cal eliminar els atributs que no farem servir:"
   ]
  },
  {
   "cell_type": "code",
   "execution_count": 148,
   "metadata": {},
   "outputs": [
    {
     "name": "stdout",
     "output_type": "stream",
     "text": [
      "(3997, 6)\n"
     ]
    }
   ],
   "source": [
    "# Subsetting del dataset amb la informació d'interès\n",
    "FA_clean = FA3[['Any','Duracio (min)','Pais', 'Gènere', 'Nota', 'Num. vots']]\n",
    "FA_clean = FA_clean.reset_index(drop=True)\n",
    "print(FA_clean.shape)"
   ]
  },
  {
   "cell_type": "markdown",
   "metadata": {},
   "source": [
    "<strong> PAS 2. VISUALITZACIÓ DE LES DADES QUANTITATIVES </strong>"
   ]
  },
  {
   "cell_type": "markdown",
   "metadata": {},
   "source": [
    "Comencem mirant si hi ha molts NA's en el nostre conjunt:"
   ]
  },
  {
   "cell_type": "code",
   "execution_count": 149,
   "metadata": {
    "scrolled": true
   },
   "outputs": [
    {
     "data": {
      "text/plain": [
       "Any                 0\n",
       "Duracio (min)     380\n",
       "Pais                0\n",
       "Gènere              0\n",
       "Nota             2114\n",
       "Num. vots        2114\n",
       "dtype: int64"
      ]
     },
     "execution_count": 149,
     "metadata": {},
     "output_type": "execute_result"
    }
   ],
   "source": [
    "FA_clean.isna().sum()"
   ]
  },
  {
   "cell_type": "markdown",
   "metadata": {},
   "source": [
    "Veiem que les úniques columnes que tenen NA's són les de duració i les referents a les votacions. Per tal de poder un bon estudi quantitatiu i no influir en els resultats estadístics, eliminarem tots aquestes registres del nostre conjunt, ja que, en cas de fer algun tipus d'inputació (com per exemple, NA = 0) podríem provocar alteracions en els resultats estadísitcs."
   ]
  },
  {
   "cell_type": "code",
   "execution_count": 150,
   "metadata": {},
   "outputs": [
    {
     "data": {
      "text/plain": [
       "(1774, 6)"
      ]
     },
     "execution_count": 150,
     "metadata": {},
     "output_type": "execute_result"
    }
   ],
   "source": [
    "FA_clean = FA_clean.dropna()\n",
    "FA_clean = FA_clean.reset_index(drop=True)\n",
    "FA_clean.shape"
   ]
  },
  {
   "cell_type": "code",
   "execution_count": 151,
   "metadata": {},
   "outputs": [
    {
     "name": "stderr",
     "output_type": "stream",
     "text": [
      "D:\\USR\\LOCAL\\Anaconda3\\lib\\site-packages\\scipy\\stats\\stats.py:1713: FutureWarning: Using a non-tuple sequence for multidimensional indexing is deprecated; use `arr[tuple(seq)]` instead of `arr[seq]`. In the future this will be interpreted as an array index, `arr[np.array(seq)]`, which will result either in an error or a different result.\n",
      "  return np.add.reduce(sorted[indexer] * weights, axis=axis) / sumval\n"
     ]
    },
    {
     "data": {
      "text/plain": [
       "<matplotlib.axes._subplots.AxesSubplot at 0xd23f542978>"
      ]
     },
     "execution_count": 151,
     "metadata": {},
     "output_type": "execute_result"
    },
    {
     "data": {
      "image/png": "[encoded data removed]",
      "text/plain": [
       "<Figure size 432x288 with 1 Axes>"
      ]
     },
     "metadata": {
      "needs_background": "light"
     },
     "output_type": "display_data"
    }
   ],
   "source": [
    "# Conbertim un nombre amb format XX,XX i guardat com una string a un nombre en format decimal estàndar (XX.XX)\n",
    "FA_clean['Nota'] = [float(nota.replace(',','.')) for nota in FA_clean['Nota']]\n",
    "\n",
    "# Visualitzem la distribució de les puntuacions\n",
    "sns.distplot(FA_clean['Nota'], bins = 20)"
   ]
  },
  {
   "cell_type": "markdown",
   "metadata": {},
   "source": [
    "A partir de la gràfica de distribució anterior, veiem que segyurament no podrem suposar normalitat en la distribució de les notes i, a més, té cues pesades pel cantó esquerre (per tant, una skew negativa). \n",
    "\n",
    "Anem a veure si es pot suposar normalitat i calculem quins són els seus estadístics:"
   ]
  },
  {
   "cell_type": "code",
   "execution_count": 152,
   "metadata": {},
   "outputs": [
    {
     "name": "stdout",
     "output_type": "stream",
     "text": [
      "Valor promig de les votacions:  5.694870349492676\n",
      "Mediana de les votacions:  5.8\n",
      "NormaltestResult(statistic=55.77169754614241, pvalue=7.750500607935107e-13)\n"
     ]
    }
   ],
   "source": [
    "# Realitzem un test de normalitat\n",
    "print('Valor promig de les votacions: ', np.mean(FA_clean['Nota']))\n",
    "print('Mediana de les votacions: ', np.median(FA_clean['Nota']))\n",
    "print(sp.stats.normaltest(FA_clean['Nota']))\n",
    "\n",
    "# Per a més informació sobre el test utilitzat, consultar el seu manual: \n",
    "# https://docs.scipy.org/doc/scipy/reference/generated/scipy.stats.normaltest.html"
   ]
  },
  {
   "cell_type": "markdown",
   "metadata": {},
   "source": [
    "Com que el p-valor << 0.005, podem assegurar amb un 99% de confiaça, que la distribució no segueix una normal.\n",
    "\n",
    "Per acabar aquesta segona secció d'anàlisi de variables quantitatives, anem a analitzar el nombre de votacions que hi ha i com es distribueix. Abans però, haurem de realitzar alguna conversió perquè s'ha realitzat una descàrrega errònia dels valors (format XXX.XXX,XXX i hauria de ser XXX,XXX.XXX):"
   ]
  },
  {
   "cell_type": "code",
   "execution_count": 153,
   "metadata": {},
   "outputs": [
    {
     "data": {
      "text/plain": [
       "<matplotlib.axes._subplots.AxesSubplot at 0xd23e0f4550>"
      ]
     },
     "execution_count": 153,
     "metadata": {},
     "output_type": "execute_result"
    },
    {
     "data": {
      "image/png": "[encoded data removed]",
      "text/plain": [
       "<Figure size 432x288 with 1 Axes>"
      ]
     },
     "metadata": {
      "needs_background": "light"
     },
     "output_type": "display_data"
    }
   ],
   "source": [
    "FA_clean['Num. vots'] = FA_clean['Num. vots']*1000\n",
    "sns.distplot(FA_clean['Num. vots'], bins = 20)"
   ]
  },
  {
   "cell_type": "markdown",
   "metadata": {},
   "source": [
    "Veiem que hi ha un clar biaix cap a les películes amb poques votacions  com es pot veure amb la dispersió entre els quartilsa de la distribució:"
   ]
  },
  {
   "cell_type": "code",
   "execution_count": 154,
   "metadata": {},
   "outputs": [
    {
     "name": "stdout",
     "output_type": "stream",
     "text": [
      "Promig del nombre de vots:  148.34442784667414\n",
      "Percentil 25% del nombre de vots:  30.0\n",
      "Percentil 50% del nombre de vots:  71.0\n",
      "Percentil 75% del nombre de vots:  186.0\n",
      "Percentil 100% del nombre de vots:  998.0\n"
     ]
    }
   ],
   "source": [
    "print('Promig del nombre de vots: ',np.mean(FA_clean['Num. vots']))\n",
    "print('Percentil 25% del nombre de vots: ',np.quantile(FA_clean['Num. vots'], .25))\n",
    "print('Percentil 50% del nombre de vots: ',np.quantile(FA_clean['Num. vots'], .5))\n",
    "print('Percentil 75% del nombre de vots: ',np.quantile(FA_clean['Num. vots'], .75))\n",
    "print('Percentil 100% del nombre de vots: ',np.quantile(FA_clean['Num. vots'], 1))"
   ]
  },
  {
   "cell_type": "code",
   "execution_count": 204,
   "metadata": {},
   "outputs": [
    {
     "data": {
      "text/plain": [
       "<matplotlib.axes._subplots.AxesSubplot at 0xd2407c7da0>"
      ]
     },
     "execution_count": 204,
     "metadata": {},
     "output_type": "execute_result"
    },
    {
     "data": {
      "image/png": "[encoded data removed]",
      "text/plain": [
       "<Figure size 432x288 with 1 Axes>"
      ]
     },
     "metadata": {
      "needs_background": "light"
     },
     "output_type": "display_data"
    }
   ],
   "source": [
    "# Dibuixem un diagrama de caixes on veiem que hi ha certs registres molt extrems\n",
    "sns.boxplot(FA_clean['Num. vots'])"
   ]
  },
  {
   "cell_type": "markdown",
   "metadata": {},
   "source": [
    "<strong> PAS 3. VISUALITZACIÓ DE LES DADES CATEGÒRIQUES </strong>"
   ]
  },
  {
   "cell_type": "code",
   "execution_count": 155,
   "metadata": {},
   "outputs": [
    {
     "data": {
      "text/plain": [
       "<matplotlib.axes._subplots.AxesSubplot at 0xd23f5b8f60>"
      ]
     },
     "execution_count": 155,
     "metadata": {},
     "output_type": "execute_result"
    },
    {
     "data": {
      "image/png": "[encoded data removed]",
      "text/plain": [
       "<Figure size 432x288 with 1 Axes>"
      ]
     },
     "metadata": {
      "needs_background": "light"
     },
     "output_type": "display_data"
    }
   ],
   "source": [
    "# Any de la publicació\n",
    "sns.countplot(FA_clean['Any'])"
   ]
  },
  {
   "cell_type": "markdown",
   "metadata": {},
   "source": [
    "Com veiem, la gran majoria de películes són de l'any 2019 perquè suposo el motor de cerca primera mostrava les d'aquest any per a cada país seleccionat i llavors les dels anys següents si no hin havia més resultats."
   ]
  },
  {
   "cell_type": "code",
   "execution_count": 156,
   "metadata": {},
   "outputs": [
    {
     "data": {
      "text/plain": [
       "<matplotlib.axes._subplots.AxesSubplot at 0xd23f5ac5f8>"
      ]
     },
     "execution_count": 156,
     "metadata": {},
     "output_type": "execute_result"
    },
    {
     "data": {
      "image/png": "[encoded data removed]",
      "text/plain": [
       "<Figure size 432x288 with 1 Axes>"
      ]
     },
     "metadata": {
      "needs_background": "light"
     },
     "output_type": "display_data"
    }
   ],
   "source": [
    "# País del film\n",
    "sns.countplot(y = 'Pais', data = FA_clean, order = FA_clean['Pais'].value_counts().index[0:8])"
   ]
  },
  {
   "cell_type": "markdown",
   "metadata": {},
   "source": [
    "Mostrem els 8 primers elements, on veiem que EEUU té clarament una sobreponderació respecte la resta de països."
   ]
  },
  {
   "cell_type": "code",
   "execution_count": 157,
   "metadata": {},
   "outputs": [
    {
     "data": {
      "text/plain": [
       "<matplotlib.axes._subplots.AxesSubplot at 0xd23f60d2e8>"
      ]
     },
     "execution_count": 157,
     "metadata": {},
     "output_type": "execute_result"
    },
    {
     "data": {
      "image/png": "[encoded data removed]",
      "text/plain": [
       "<Figure size 432x288 with 1 Axes>"
      ]
     },
     "metadata": {
      "needs_background": "light"
     },
     "output_type": "display_data"
    }
   ],
   "source": [
    "# Gènere del film\n",
    "sns.countplot(y = 'Gènere', data = FA_clean, order = FA_clean['Gènere'].value_counts().index[0:8])"
   ]
  },
  {
   "cell_type": "markdown",
   "metadata": {},
   "source": [
    "Com veiem, les fiulmacions més emmagtemades són documentals i drames però ens trobem que potser no està ben parametritzat perquè la nostra base ha baixat una llista enlloc de classificar-ho individualment. Així, haurem de separar tots els gèneres i convertir aquesta columna en múltiples columnes bonàries, cada una representant un únic gènere:"
   ]
  },
  {
   "cell_type": "code",
   "execution_count": 158,
   "metadata": {
    "scrolled": false
   },
   "outputs": [],
   "source": [
    "# Comencem saben quins elements hi ha\n",
    "uni_gen = FA_clean['Gènere'].unique()\n",
    "\n",
    "# Separem el llistat de caràcters utilitzant \"'\"\n",
    "uni_gen = [gen.split(\"'\") for gen in uni_gen]\n",
    "\n",
    "# Aplenem la llista\n",
    "uni_gen = [txt for sub in uni_gen for txt in sub]\n",
    "\n",
    "# Eliminem les cadenes de text que no són paraules\n",
    "uni_gen = [txt for txt in uni_gen if (txt !='[[')]\n",
    "uni_gen = [txt for txt in uni_gen if (txt !='], [')]\n",
    "uni_gen = [txt for txt in uni_gen if (txt !=']]')]\n",
    "\n",
    "# Ens quedem amb les úniques aparicions\n",
    "uni_gen = pd.Series(uni_gen).unique()"
   ]
  },
  {
   "cell_type": "code",
   "execution_count": 159,
   "metadata": {},
   "outputs": [],
   "source": [
    "# Creem un DF per fer les dummies dels gèneres\n",
    "df_gen = pd.DataFrame(np.zeros((len(FA_clean['Gènere']),len(uni_gen))),columns=uni_gen)\n",
    "\n",
    "# Per a cada película, repetim el mateix procediment\n",
    "for i in range(len(FA_clean['Gènere'])):\n",
    "    gen = FA_clean['Gènere'][i]\n",
    "    gen = gen.split(\"'\")\n",
    "    gen = [txt for txt in gen if (txt !='[[')]\n",
    "    gen = [txt for txt in gen if (txt !='], [')]\n",
    "    gen = [txt for txt in gen if (txt !=']]')]\n",
    "    for col in df_gen.columns:\n",
    "        for g in gen:\n",
    "            if g == col:\n",
    "                df_gen[col][i] = 1\n",
    "\n",
    "# Concatenem els dos dataframes\n",
    "FA_clean = pd.concat([FA_clean, df_gen], axis = 1)\n",
    "\n",
    "# Eliminem la columna antiga de gèneres\n",
    "FA_clean = FA_clean.drop('Gènere', axis = 1)"
   ]
  },
  {
   "cell_type": "markdown",
   "metadata": {},
   "source": [
    "Un cop tenim creada correctament el desglòs per cada gènere dioferent, anem a veure quins gèneres estan més representats en el nostre dataset:"
   ]
  },
  {
   "cell_type": "code",
   "execution_count": 160,
   "metadata": {},
   "outputs": [
    {
     "data": {
      "text/plain": [
       "<matplotlib.axes._subplots.AxesSubplot at 0xd23f65fa20>"
      ]
     },
     "execution_count": 160,
     "metadata": {},
     "output_type": "execute_result"
    },
    {
     "data": {
      "image/png": "[encoded data removed]",
      "text/plain": [
       "<Figure size 432x288 with 1 Axes>"
      ]
     },
     "metadata": {
      "needs_background": "light"
     },
     "output_type": "display_data"
    }
   ],
   "source": [
    "# Creem un vector per emmagatzemar el nombre de películes en cada gènere\n",
    "sum_gen = [FA_clean[gen].sum() for gen in uni_gen]\n",
    "sum_gen = pd.Series(sum_gen, index=uni_gen)\n",
    "\n",
    "# Dibuixem els resultats\n",
    "sum_gen.plot.bar()"
   ]
  },
  {
   "cell_type": "markdown",
   "metadata": {},
   "source": [
    "A la vista del gràfic, veiem que el gènere més representat és el de 'Drama' seguit de molt lluny per 'Comedia' i 'Sèrie de TV' (els 3 grans gèneres que hi ha a FA tot i que aquest últim no es podria considerar un gènere pròpiament dit)."
   ]
  },
  {
   "cell_type": "markdown",
   "metadata": {},
   "source": [
    "<strong> PAS 4. ANÀLISIS ESTADÍSTICS: </strong>"
   ]
  },
  {
   "cell_type": "markdown",
   "metadata": {},
   "source": [
    "4.1. Relació entre nombre de votacions i valoració de la película: Comencem analitzant si existeix una relació entre nombre de votacions i valoració del film segons els usuaris de FA. Per fer-ho, dibuixarem un gràfic creuat i calcularem el seu regressor lineal, tot calculant R^2:"
   ]
  },
  {
   "cell_type": "code",
   "execution_count": 161,
   "metadata": {},
   "outputs": [
    {
     "data": {
      "text/plain": [
       "<matplotlib.axes._subplots.AxesSubplot at 0xd23f6c4ef0>"
      ]
     },
     "execution_count": 161,
     "metadata": {},
     "output_type": "execute_result"
    },
    {
     "data": {
      "image/png": "[encoded data removed]",
      "text/plain": [
       "<Figure size 432x288 with 1 Axes>"
      ]
     },
     "metadata": {
      "needs_background": "light"
     },
     "output_type": "display_data"
    }
   ],
   "source": [
    "# Dibuixem el regressor\n",
    "sns.regplot(x='Num. vots', y='Nota', data=FA_clean)"
   ]
  },
  {
   "cell_type": "markdown",
   "metadata": {},
   "source": [
    "Com ens podíem esperar, no existeix una relació que impliqui que a major votació millor nota. Tot i així, farem l'exercici de calcular la seva regressió lineal:"
   ]
  },
  {
   "cell_type": "code",
   "execution_count": 162,
   "metadata": {},
   "outputs": [
    {
     "data": {
      "text/html": [
       "<table class=\"simpletable\">\n",
       "<caption>OLS Regression Results</caption>\n",
       "<tr>\n",
       "  <th>Dep. Variable:</th>          <td>Nota</td>       <th>  R-squared:         </th> <td>   0.364</td> \n",
       "</tr>\n",
       "<tr>\n",
       "  <th>Model:</th>                   <td>OLS</td>       <th>  Adj. R-squared:    </th> <td>   0.363</td> \n",
       "</tr>\n",
       "<tr>\n",
       "  <th>Method:</th>             <td>Least Squares</td>  <th>  F-statistic:       </th> <td>   1013.</td> \n",
       "</tr>\n",
       "<tr>\n",
       "  <th>Date:</th>             <td>Tue, 07 Jan 2020</td> <th>  Prob (F-statistic):</th> <td>3.51e-176</td>\n",
       "</tr>\n",
       "<tr>\n",
       "  <th>Time:</th>                 <td>12:24:50</td>     <th>  Log-Likelihood:    </th> <td> -5234.6</td> \n",
       "</tr>\n",
       "<tr>\n",
       "  <th>No. Observations:</th>      <td>  1774</td>      <th>  AIC:               </th> <td>1.047e+04</td>\n",
       "</tr>\n",
       "<tr>\n",
       "  <th>Df Residuals:</th>          <td>  1773</td>      <th>  BIC:               </th> <td>1.048e+04</td>\n",
       "</tr>\n",
       "<tr>\n",
       "  <th>Df Model:</th>              <td>     1</td>      <th>                     </th>     <td> </td>    \n",
       "</tr>\n",
       "<tr>\n",
       "  <th>Covariance Type:</th>      <td>nonrobust</td>    <th>                     </th>     <td> </td>    \n",
       "</tr>\n",
       "</table>\n",
       "<table class=\"simpletable\">\n",
       "<tr>\n",
       "      <td></td>         <th>coef</th>     <th>std err</th>      <th>t</th>      <th>P>|t|</th>  <th>[0.025</th>    <th>0.975]</th>  \n",
       "</tr>\n",
       "<tr>\n",
       "  <th>Num. vots</th> <td>    0.0145</td> <td>    0.000</td> <td>   31.823</td> <td> 0.000</td> <td>    0.014</td> <td>    0.015</td>\n",
       "</tr>\n",
       "</table>\n",
       "<table class=\"simpletable\">\n",
       "<tr>\n",
       "  <th>Omnibus:</th>       <td>642.412</td> <th>  Durbin-Watson:     </th> <td>   0.385</td>\n",
       "</tr>\n",
       "<tr>\n",
       "  <th>Prob(Omnibus):</th> <td> 0.000</td>  <th>  Jarque-Bera (JB):  </th> <td>2198.023</td>\n",
       "</tr>\n",
       "<tr>\n",
       "  <th>Skew:</th>          <td>-1.807</td>  <th>  Prob(JB):          </th> <td>    0.00</td>\n",
       "</tr>\n",
       "<tr>\n",
       "  <th>Kurtosis:</th>      <td> 7.084</td>  <th>  Cond. No.          </th> <td>    1.00</td>\n",
       "</tr>\n",
       "</table><br/><br/>Warnings:<br/>[1] Standard Errors assume that the covariance matrix of the errors is correctly specified."
      ],
      "text/plain": [
       "<class 'statsmodels.iolib.summary.Summary'>\n",
       "\"\"\"\n",
       "                            OLS Regression Results                            \n",
       "==============================================================================\n",
       "Dep. Variable:                   Nota   R-squared:                       0.364\n",
       "Model:                            OLS   Adj. R-squared:                  0.363\n",
       "Method:                 Least Squares   F-statistic:                     1013.\n",
       "Date:                Tue, 07 Jan 2020   Prob (F-statistic):          3.51e-176\n",
       "Time:                        12:24:50   Log-Likelihood:                -5234.6\n",
       "No. Observations:                1774   AIC:                         1.047e+04\n",
       "Df Residuals:                    1773   BIC:                         1.048e+04\n",
       "Df Model:                           1                                         \n",
       "Covariance Type:            nonrobust                                         \n",
       "==============================================================================\n",
       "                 coef    std err          t      P>|t|      [0.025      0.975]\n",
       "------------------------------------------------------------------------------\n",
       "Num. vots      0.0145      0.000     31.823      0.000       0.014       0.015\n",
       "==============================================================================\n",
       "Omnibus:                      642.412   Durbin-Watson:                   0.385\n",
       "Prob(Omnibus):                  0.000   Jarque-Bera (JB):             2198.023\n",
       "Skew:                          -1.807   Prob(JB):                         0.00\n",
       "Kurtosis:                       7.084   Cond. No.                         1.00\n",
       "==============================================================================\n",
       "\n",
       "Warnings:\n",
       "[1] Standard Errors assume that the covariance matrix of the errors is correctly specified.\n",
       "\"\"\""
      ]
     },
     "execution_count": 162,
     "metadata": {},
     "output_type": "execute_result"
    }
   ],
   "source": [
    "# Impertem la llibreria per realitzar les regressions\n",
    "import statsmodels.api as sm\n",
    "# Per a més informació, consultar: https://www.statsmodels.org/stable/index.html\n",
    "\n",
    "# Calculem la regressió\n",
    "model = sm.OLS(FA_clean['Nota'], FA_clean['Num. vots']).fit()\n",
    "model.summary()"
   ]
  },
  {
   "cell_type": "markdown",
   "metadata": {},
   "source": [
    "Com veiem en la taula anterior, la regressió té un R^2 d'un 36% i el coeficient del nombre de votacions és molt pròxim a 0 (de l'ordre de e-5). Per tant, podem concloure que no existeix una relació entre nombre de votacions i valoració de la película. "
   ]
  },
  {
   "cell_type": "markdown",
   "metadata": {},
   "source": [
    "4.2. Hi ha un país amb millor valoració que la resta? Per començar, escriurem tots els promitgos de valoracions per a cada país per saber de quin país partir:"
   ]
  },
  {
   "cell_type": "code",
   "execution_count": 163,
   "metadata": {},
   "outputs": [
    {
     "name": "stdout",
     "output_type": "stream",
     "text": [
      "La nota promig del país Estados Unidos és:  5.655870445344126\n",
      "La nota promig del país Alemania és:  5.2238372093023235\n",
      "La nota promig del país España és:  5.489880952380953\n",
      "La nota promig del país Francia és:  5.814545454545456\n",
      "La nota promig del país Reino Unido és:  5.882894736842103\n",
      "La nota promig del país Japón és:  6.271232876712332\n",
      "La nota promig del país Argentina és:  5.617475728155339\n",
      "La nota promig del país Italia és:  5.824742268041236\n"
     ]
    },
    {
     "data": {
      "text/plain": [
       "[None, None, None, None, None, None, None, None]"
      ]
     },
     "execution_count": 163,
     "metadata": {},
     "output_type": "execute_result"
    }
   ],
   "source": [
    "[print('La nota promig del país ' + pais + ' és: ', np.mean(FA_clean[FA_clean['Pais'] == pais]['Nota'])) \n",
    "     for pais in FA_clean['Pais'].value_counts()[0:8].index]"
   ]
  },
  {
   "cell_type": "markdown",
   "metadata": {},
   "source": [
    "Ens quedem només amb els 8 països amb més pel·lícules perquè la resta de països que apareixien en el llistat només disposaven de menys d'una desena de películes i els resultats estadístics obtinguts no haguessin estat vàlids.\n",
    "\n",
    "A partir del llistat anterior, veiem que Japó disposa d'una valoració mitjana sensiblement superior a la resta i, per tant, és la nostra candidata a ser utilitzada pel test:"
   ]
  },
  {
   "cell_type": "code",
   "execution_count": 164,
   "metadata": {},
   "outputs": [],
   "source": [
    "# Creem dos vectors diferents que serviranmm per aplicar-los el test\n",
    "jap = FA_clean[FA_clean['Pais'] == 'Japón']['Nota']\n",
    "njap = FA_clean[FA_clean['Pais'] != 'Japón']['Nota']"
   ]
  },
  {
   "cell_type": "markdown",
   "metadata": {},
   "source": [
    "Per aquest anàlisi, utilitzarem el test de Mann-Wjitney U (https://en.wikipedia.org/wiki/Mann%E2%80%93Whitney_U_test) ja que ambdós mostres pertanyen a la mateixa distribució original i, com hem vist amb anterioritat, no tenen una distribució normal:"
   ]
  },
  {
   "cell_type": "code",
   "execution_count": 196,
   "metadata": {},
   "outputs": [
    {
     "name": "stdout",
     "output_type": "stream",
     "text": [
      "MannwhitneyuResult(statistic=159288.0, pvalue=8.86367787152009e-12)\n",
      "MannwhitneyuResult(statistic=159288.0, pvalue=4.431838935760045e-12)\n"
     ]
    }
   ],
   "source": [
    "# Per a més informació de la funció utilitzada, consultar:\n",
    "# https://docs.scipy.org/doc/scipy/reference/generated/scipy.stats.mannwhitneyu.html\n",
    "print(sp.stats.mannwhitneyu(jap,njap,alternative='two-sided'))\n",
    "print(sp.stats.mannwhitneyu(jap,njap,alternative='greater'))"
   ]
  },
  {
   "cell_type": "markdown",
   "metadata": {},
   "source": [
    "Com que el p-valor pel cas d'igualtat de mitjanes és molt inferior al nivell crític, podem establir que les mitjanes de les distribucions són diferents. Per tant, aplicant el test d'hipòtesis comparant mitjanes (és a dir, mu1 > mu2) podem establir que, amb les dades que tenim, les películes japoneneses recents (recordem que el nostre dataset el formen películes dels anys 2017 - 2019) estan més ben valorades que la resta de películes ja que el p-valor está molt per sota del valor crític i, per tant, podem acceptar la hipòtesis nul·la."
   ]
  },
  {
   "cell_type": "markdown",
   "metadata": {},
   "source": [
    "4.3. Existeix algun gènere amb una puntuació superior a la resta? El procediment per respondre aquesta pregunta serà exacte al realitzat al sub-apartat anterior. Així, comencem mirant per a cada gènere quina és la seva nota promig:"
   ]
  },
  {
   "cell_type": "code",
   "execution_count": 174,
   "metadata": {},
   "outputs": [
    {
     "name": "stdout",
     "output_type": "stream",
     "text": [
      "La nota promig del gènere Thriller és:  5.414981273408244\n",
      "La nota promig del gènere Drama és:  5.838428571428571\n",
      "La nota promig del gènere Ciencia ficción és:  5.56851851851852\n",
      "La nota promig del gènere Acción és:  5.614374999999998\n",
      "La nota promig del gènere Terror és:  5.028251121076233\n",
      "La nota promig del gènere Fantástico és:  5.877157360406092\n",
      "La nota promig del gènere Animación és:  6.176734693877549\n",
      "La nota promig del gènere Aventuras és:  5.906122448979591\n",
      "La nota promig del gènere Musical és:  5.996153846153846\n",
      "La nota promig del gènere Serie de TV és:  6.173913043478261\n",
      "La nota promig del gènere Infantil és:  5.45\n",
      "La nota promig del gènere Comedia és:  5.416385542168674\n",
      "La nota promig del gènere Intriga és:  5.6074468085106375\n",
      "La nota promig del gènere Romance és:  5.312903225806452\n",
      "La nota promig del gènere Documental és:  6.432113821138211\n",
      "La nota promig del gènere Western és:  6.366666666666667\n",
      "La nota promig del gènere Bélico és:  6.277777777777779\n",
      "La nota promig del gènere Cine negro és:  6.1\n"
     ]
    },
    {
     "data": {
      "text/plain": [
       "[None,\n",
       " None,\n",
       " None,\n",
       " None,\n",
       " None,\n",
       " None,\n",
       " None,\n",
       " None,\n",
       " None,\n",
       " None,\n",
       " None,\n",
       " None,\n",
       " None,\n",
       " None,\n",
       " None,\n",
       " None,\n",
       " None,\n",
       " None]"
      ]
     },
     "execution_count": 174,
     "metadata": {},
     "output_type": "execute_result"
    }
   ],
   "source": [
    "[print('La nota promig del gènere ' + gen + ' és: ', np.mean(FA_clean[FA_clean[gen] == 1]['Nota'])) for gen in uni_gen]"
   ]
  },
  {
   "cell_type": "markdown",
   "metadata": {},
   "source": [
    "Notem que el gènere amb més bona valoració és el Documental però com aquest no és un gènerie pñròpiament dit, escollirem el 2n en la classificació ('Western'). Llavors, aplicarem el mateix test estadístic anterior per comprovar si aquesta diferència resdpecte els altres gèneres és estadísticament significativa: "
   ]
  },
  {
   "cell_type": "code",
   "execution_count": 177,
   "metadata": {},
   "outputs": [
    {
     "data": {
      "text/plain": [
       "MannwhitneyuResult(statistic=3714.0, pvalue=0.23292472077900994)"
      ]
     },
     "execution_count": 177,
     "metadata": {},
     "output_type": "execute_result"
    }
   ],
   "source": [
    "# Creem dos vectors diferents que serviran per aplicar-los el test\n",
    "west = FA_clean[FA_clean['Western'] == 1]['Nota']\n",
    "nwest = FA_clean[FA_clean['Western'] != 1]['Nota']\n",
    "\n",
    "# Apliquem el test\n",
    "sp.stats.mannwhitneyu(west,nwest,alternative='two-sided')"
   ]
  },
  {
   "cell_type": "markdown",
   "metadata": {},
   "source": [
    "Com que el p-valor està per sobre del valor crític, no podem rebutjar la hipòtesis nul·la i, per tant, no podem realitzar cap conclusió estadística significativa.\n",
    "\n",
    "Alternativament, podríem mirar si les películes de Terror són les pitjor valorades:"
   ]
  },
  {
   "cell_type": "code",
   "execution_count": 195,
   "metadata": {},
   "outputs": [
    {
     "name": "stdout",
     "output_type": "stream",
     "text": [
      "MannwhitneyuResult(statistic=101082.0, pvalue=9.164169029659309e-24)\n",
      "MannwhitneyuResult(statistic=101082.0, pvalue=4.5820845148296544e-24)\n"
     ]
    }
   ],
   "source": [
    "# Creem dos vectors diferents que serviran per aplicar-los el test\n",
    "ter = FA_clean[FA_clean['Terror'] == 1]['Nota']\n",
    "nter = FA_clean[FA_clean['Terror'] != 1]['Nota']\n",
    "\n",
    "# Apliquem el test\n",
    "print(sp.stats.mannwhitneyu(ter,nter,alternative='two-sided'))\n",
    "print(sp.stats.mannwhitneyu(ter,nter,alternative='less'))"
   ]
  },
  {
   "cell_type": "markdown",
   "metadata": {},
   "source": [
    "Com que els dos p-valors estan molt per sota de qualsevol valor crític, podem establir que les películes de terror són les pitjor valorades pels usuaris de FA de tots els gèneres disponibles."
   ]
  },
  {
   "cell_type": "markdown",
   "metadata": {},
   "source": [
    "4.4. Els documentals estan més ben valorats que les sèries de TV? El procediment per respondre aquesta última pregunta serà exacte al realitzat als dos sub-apartats anteriors:"
   ]
  },
  {
   "cell_type": "code",
   "execution_count": 199,
   "metadata": {},
   "outputs": [
    {
     "name": "stdout",
     "output_type": "stream",
     "text": [
      "MannwhitneyuResult(statistic=39201.5, pvalue=0.004852926669383144)\n",
      "MannwhitneyuResult(statistic=39201.5, pvalue=0.002426463334691572)\n"
     ]
    }
   ],
   "source": [
    "# Creem dos vectors diferents que serviran per aplicar-los el test\n",
    "stv = FA_clean[FA_clean['Serie de TV'] == 1]['Nota']\n",
    "doc = FA_clean[FA_clean['Documental'] == 1]['Nota']\n",
    "\n",
    "# Apliquem el test\n",
    "print(sp.stats.mannwhitneyu(stv,doc,alternative='two-sided'))\n",
    "print(sp.stats.mannwhitneyu(stv,doc,alternative='less'))"
   ]
  },
  {
   "cell_type": "markdown",
   "metadata": {},
   "source": [
    "Tot i que la prova de diferència de mitjanes no és tan significativa com les obtingudes amb els altres anàlisis, quan realitzem els dos tests obtenim que sí que hi ha una diferència significativa (perquè ambdos valors estan per sota de qualsevol valor crític) i, per tant, podem establir que, pels usuaris de FA, els documentals són millors que les sèries de TV."
   ]
  },
  {
   "cell_type": "markdown",
   "metadata": {},
   "source": [
    "4.5. Els curtmetratges estan més ben valorats que els llargmetratges? Per contestar a aquesta pregunta, binaritzarem l'atribut Duració i compararem les notes obtingudes per cada classe:"
   ]
  },
  {
   "cell_type": "code",
   "execution_count": 203,
   "metadata": {
    "scrolled": false
   },
   "outputs": [
    {
     "name": "stdout",
     "output_type": "stream",
     "text": [
      "Vot promig dels curtmetratges:  5.881172839506171\n",
      "Vot promig dels llargmetratges:  5.65324137931034\n",
      "MannwhitneyuResult(statistic=260512.5, pvalue=0.002113746379591839)\n",
      "MannwhitneyuResult(statistic=260512.5, pvalue=0.0010568731897959195)\n"
     ]
    }
   ],
   "source": [
    "# Definirem com a curtmetratge qualsevol film de menys de 30 min (https://es.wikipedia.org/wiki/Cortometraje)\n",
    "curt = FA_clean[FA_clean['Duracio (min)'] <= 30]['Nota']\n",
    "llarg = FA_clean[FA_clean['Duracio (min)'] > 30]['Nota']\n",
    "\n",
    "#Escrivim les mitjanes\n",
    "print('Vot promig dels curtmetratges: ', np.mean(curt))\n",
    "print('Vot promig dels llargmetratges: ', np.mean(llarg))\n",
    "\n",
    "# Apliquem el test\n",
    "print(sp.stats.mannwhitneyu(curt,llarg,alternative='two-sided'))\n",
    "print(sp.stats.mannwhitneyu(curt,llarg,alternative='greater'))"
   ]
  },
  {
   "cell_type": "markdown",
   "metadata": {},
   "source": [
    "<strong>PAS 5. GENERACIÓ DEL CSV FINAL</strong>"
   ]
  },
  {
   "cell_type": "code",
   "execution_count": 205,
   "metadata": {},
   "outputs": [],
   "source": [
    "#Generem el fitxer CSV amb el data clean\n",
    "FA_clean.to_csv('FA_clean.csv')"
   ]
  },
  {
   "cell_type": "code",
   "execution_count": null,
   "metadata": {},
   "outputs": [],
   "source": []
  }
 ],
 "metadata": {
  "kernelspec": {
   "display_name": "Python 3",
   "language": "python",
   "name": "python3"
  },
  "language_info": {
   "codemirror_mode": {
    "name": "ipython",
    "version": 3
   },
   "file_extension": ".py",
   "mimetype": "text/x-python",
   "name": "python",
   "nbconvert_exporter": "python",
   "pygments_lexer": "ipython3",
   "version": "3.7.3"
  }
 },
 "nbformat": 4,
 "nbformat_minor": 2
}
